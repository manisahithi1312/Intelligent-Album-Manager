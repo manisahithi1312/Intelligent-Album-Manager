{
 "cells": [
  {
   "cell_type": "code",
   "execution_count": 1,
   "metadata": {},
   "outputs": [
    {
     "name": "stdout",
     "output_type": "stream",
     "text": [
      "Faces in collection Collection\n",
      "{'FaceId': '61ba87b4-74f3-4de2-b9e0-098bf6ccccf5', 'BoundingBox': {'Width': 0.2836019992828369, 'Height': 0.6900740265846252, 'Left': 0.42813000082969666, 'Top': 0.2570149898529053}, 'ImageId': '6d099886-509a-3d16-ba8b-af69629f8ca4', 'ExternalImageId': 'test5.jpg', 'Confidence': 99.99700164794922}\n",
      "{'FaceId': '937d99a4-88d5-43bf-9eac-c768ddb8b58d', 'BoundingBox': {'Width': 0.2654620110988617, 'Height': 0.3068169951438904, 'Left': 0.40366798639297485, 'Top': 0.24637199938297272}, 'ImageId': 'bc334b6d-2317-3a1a-a05d-a023f1170f95', 'ExternalImageId': 'test6.jpg', 'Confidence': 99.99849700927734}\n",
      "faces count: 2\n"
     ]
    }
   ],
   "source": [
    "import boto3\n",
    "\n",
    "def list_faces_in_collection(collection_id):\n",
    "\n",
    "\n",
    "    maxResults=2\n",
    "    faces_count=0\n",
    "    tokens=True\n",
    "\n",
    "    client=boto3.client('rekognition')\n",
    "    response=client.list_faces(CollectionId=collection_id,\n",
    "                               MaxResults=maxResults)\n",
    "\n",
    "    print('Faces in collection ' + collection_id)\n",
    "\n",
    " \n",
    "    while tokens:\n",
    "\n",
    "        faces=response['Faces']\n",
    "\n",
    "        for face in faces:\n",
    "            print (face)\n",
    "            faces_count+=1\n",
    "        if 'NextToken' in response:\n",
    "            nextToken=response['NextToken']\n",
    "            response=client.list_faces(CollectionId=collection_id,\n",
    "                                       NextToken=nextToken,MaxResults=maxResults)\n",
    "        else:\n",
    "            tokens=False\n",
    "    return faces_count   \n",
    "def main():\n",
    "\n",
    "    collection_id='Collection'\n",
    "\n",
    "    faces_count=list_faces_in_collection(collection_id)\n",
    "    print(\"faces count: \" + str(faces_count))\n",
    "if __name__ == \"__main__\":\n",
    "    main()"
   ]
  },
  {
   "cell_type": "code",
   "execution_count": null,
   "metadata": {},
   "outputs": [],
   "source": []
  }
 ],
 "metadata": {
  "kernelspec": {
   "display_name": "Python 3",
   "language": "python",
   "name": "python3"
  },
  "language_info": {
   "codemirror_mode": {
    "name": "ipython",
    "version": 3
   },
   "file_extension": ".py",
   "mimetype": "text/x-python",
   "name": "python",
   "nbconvert_exporter": "python",
   "pygments_lexer": "ipython3",
   "version": "3.7.4"
  }
 },
 "nbformat": 4,
 "nbformat_minor": 2
}
