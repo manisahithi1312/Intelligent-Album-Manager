{
 "cells": [
  {
   "cell_type": "code",
   "execution_count": null,
   "metadata": {},
   "outputs": [],
   "source": [
    "import boto3\n",
    "\n",
    "def add_faces_to_collection(bucket,photo,collection_id):\n",
    "\n",
    "\n",
    "    \n",
    "    client=boto3.client('rekognition')\n",
    "\n",
    "    response=client.index_faces(CollectionId=collection_id,\n",
    "                                Image={'S3Object':{'Bucket':bucket,'Name':photo}},\n",
    "                                ExternalImageId=photo,\n",
    "                                MaxFaces=1,\n",
    "                                QualityFilter=\"AUTO\",\n",
    "                                DetectionAttributes=['ALL'])\n",
    "\n",
    "    print ('Results for ' + photo) \t\n",
    "    print('Faces indexed:')\t\t\t\t\t\t\n",
    "    for faceRecord in response['FaceRecords']:\n",
    "         print('  Face ID: ' + faceRecord['Face']['FaceId'])\n",
    "         print('  Location: {}'.format(faceRecord['Face']['BoundingBox']))\n",
    "\n",
    "    print('Faces not indexed:')\n",
    "    for unindexedFace in response['UnindexedFaces']:\n",
    "        print(' Location: {}'.format(unindexedFace['FaceDetail']['BoundingBox']))\n",
    "        print(' Reasons:')\n",
    "        for reason in unindexedFace['Reasons']:\n",
    "            print('   ' + reason)\n",
    "    return len(response['FaceRecords'])\n",
    "\n",
    "def main():\n",
    "    bucket='album-manager'\n",
    "    collection_id='Collection'\n",
    "    photo='test5.jpg'\n",
    "    \n",
    "    \n",
    "    indexed_faces_count=add_faces_to_collection(bucket, photo, collection_id)\n",
    "    print(\"Faces indexed count: \" + str(indexed_faces_count))\n",
    "\n",
    "\n",
    "if __name__ == \"__main__\":\n",
    "    main()"
   ]
  }
 ],
 "metadata": {
  "kernelspec": {
   "display_name": "Python 3",
   "language": "python",
   "name": "python3"
  },
  "language_info": {
   "codemirror_mode": {
    "name": "ipython",
    "version": 3
   },
   "file_extension": ".py",
   "mimetype": "text/x-python",
   "name": "python",
   "nbconvert_exporter": "python",
   "pygments_lexer": "ipython3",
   "version": "3.7.4"
  }
 },
 "nbformat": 4,
 "nbformat_minor": 2
}
