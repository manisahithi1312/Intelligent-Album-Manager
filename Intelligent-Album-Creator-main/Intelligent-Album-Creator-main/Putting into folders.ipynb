{
 "cells": [
  {
   "cell_type": "code",
   "execution_count": 1,
   "metadata": {},
   "outputs": [
    {
     "name": "stdout",
     "output_type": "stream",
     "text": [
      "Matching faces\n",
      "Matching faces\n",
      "Matching faces\n",
      "Matching faces\n",
      "FaceId:937d99a4-88d5-43bf-9eac-c768ddb8b58d\n",
      "External Id:test6.jpg\n",
      "Similarity: 100.00%\n",
      "successfully moved to test6/test4.jpg\n"
     ]
    },
    {
     "ename": "NameError",
     "evalue": "name 'raw_input' is not defined",
     "output_type": "error",
     "traceback": [
      "\u001b[1;31m---------------------------------------------------------------------------\u001b[0m",
      "\u001b[1;31mNameError\u001b[0m                                 Traceback (most recent call last)",
      "\u001b[1;32m<ipython-input-1-10b4cc2b98ca>\u001b[0m in \u001b[0;36m<module>\u001b[1;34m\u001b[0m\n\u001b[0;32m     57\u001b[0m \u001b[1;32mif\u001b[0m \u001b[0m__name__\u001b[0m \u001b[1;33m==\u001b[0m \u001b[1;34m\"__main__\"\u001b[0m\u001b[1;33m:\u001b[0m\u001b[1;33m\u001b[0m\u001b[1;33m\u001b[0m\u001b[0m\n\u001b[0;32m     58\u001b[0m     \u001b[0mmain\u001b[0m\u001b[1;33m(\u001b[0m\u001b[1;33m)\u001b[0m\u001b[1;33m\u001b[0m\u001b[1;33m\u001b[0m\u001b[0m\n\u001b[1;32m---> 59\u001b[1;33m     \u001b[0mx\u001b[0m \u001b[1;33m=\u001b[0m \u001b[0mint\u001b[0m\u001b[1;33m(\u001b[0m\u001b[0mraw_input\u001b[0m\u001b[1;33m(\u001b[0m\u001b[1;33m)\u001b[0m\u001b[1;33m)\u001b[0m\u001b[1;33m\u001b[0m\u001b[1;33m\u001b[0m\u001b[0m\n\u001b[0m",
      "\u001b[1;31mNameError\u001b[0m: name 'raw_input' is not defined"
     ]
    }
   ],
   "source": [
    "import boto3\n",
    "import csv\n",
    "\n",
    "with  open(\"new_user_credentials.csv\",'r') as input:\n",
    "    next(input)\n",
    "    reader = csv.reader(input)\n",
    "    for line in reader:\n",
    "        access_key_id = line[0]\n",
    "        secret_access_key = line[1]\n",
    "        #session_token = line[2]\n",
    "        \n",
    "client  = boto3.client('rekognition')\n",
    "                       #aws_access_key_id = access_key_id,\n",
    "                       #aws_secret_access_key = secret_access_key,\n",
    "                       #aws_session_token = session_token,\n",
    "                       #region_name = 'us-east-1')\n",
    "\n",
    "s3 = boto3.client('s3')\n",
    "                  #aws_access_key_id = access_key_id,\n",
    "                  #aws_secret_access_key = secret_access_key,\n",
    "                  #aws_session_token = session_token,\n",
    "                  #region_name = 'us-east-1')\n",
    "\n",
    "def main():\n",
    "    bucket = 'album-manager'\n",
    "    collection_id = 'Collection'\n",
    "    \n",
    "    fileNames=['test1.jpg','test2.jpg','test3.jpg','test4.jpg']\n",
    "    #fileNames = ['test6.jpg']\n",
    "     \n",
    "    \n",
    "    threshold = 70\n",
    "    maxFaces = 2\n",
    "    \n",
    "    for fileName in fileNames:\n",
    "        response=client.search_faces_by_image(CollectionId=collection_id,\n",
    "                                              Image={'S3Object':\n",
    "                                                     {'Bucket':bucket,\n",
    "                                                      'Name':fileName}},\n",
    "                                              FaceMatchThreshold=threshold,\n",
    "                                              MaxFaces=maxFaces)\n",
    "            \n",
    "        faceMatches=response['FaceMatches']\n",
    "        print ('Matching faces')\n",
    "        for match in faceMatches:\n",
    "            print ('FaceId:' + match['Face']['FaceId'])\n",
    "            print ('External Id:' + match['Face'][\"ExternalImageId\"])\n",
    "            print ('Similarity: ' + \"{:.2f}\".format(match['Similarity']) + \"%\")\n",
    "            \n",
    "            copy_from = str(bucket+'/'+fileName) \n",
    "            move_to = str(match['Face'][\"ExternalImageId\"][:-4]+'/'+fileName)\n",
    "            \n",
    "            s3.copy_object(Bucket=bucket, CopySource=copy_from, Key=move_to)\n",
    "             \n",
    "            print(\"successfully moved to \" + move_to)\n",
    "        \n",
    "if __name__ == \"__main__\":\n",
    "    main()\n",
    "    x = int(raw_input())\t"
   ]
  },
  {
   "cell_type": "code",
   "execution_count": null,
   "metadata": {},
   "outputs": [],
   "source": []
  }
 ],
 "metadata": {
  "kernelspec": {
   "display_name": "Python 3",
   "language": "python",
   "name": "python3"
  },
  "language_info": {
   "codemirror_mode": {
    "name": "ipython",
    "version": 3
   },
   "file_extension": ".py",
   "mimetype": "text/x-python",
   "name": "python",
   "nbconvert_exporter": "python",
   "pygments_lexer": "ipython3",
   "version": "3.7.4"
  }
 },
 "nbformat": 4,
 "nbformat_minor": 2
}
