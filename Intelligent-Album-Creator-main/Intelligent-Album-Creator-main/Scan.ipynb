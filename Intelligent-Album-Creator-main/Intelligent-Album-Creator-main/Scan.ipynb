{
 "cells": [
  {
   "cell_type": "code",
   "execution_count": 2,
   "metadata": {},
   "outputs": [
    {
     "name": "stdout",
     "output_type": "stream",
     "text": [
      "Matching faces\n",
      "FaceId:61ba87b4-74f3-4de2-b9e0-098bf6ccccf5\n",
      "Similarity: 100.00%\n"
     ]
    }
   ],
   "source": [
    "\n",
    "import boto3\n",
    "\n",
    "if __name__ == \"__main__\":\n",
    "\n",
    "    bucket='album-manager'\n",
    "    collectionId='Collection'\n",
    "    fileName='test5.jpg'\n",
    "    threshold = 70\n",
    "    maxFaces=2\n",
    "\n",
    "    client=boto3.client('rekognition')\n",
    "\n",
    "  \n",
    "    response=client.search_faces_by_image(CollectionId=collectionId,\n",
    "                                Image={'S3Object':{'Bucket':bucket,'Name':fileName}},\n",
    "                                FaceMatchThreshold=threshold,\n",
    "                                MaxFaces=maxFaces)\n",
    "\n",
    "                                \n",
    "    faceMatches=response['FaceMatches']\n",
    "    print ('Matching faces')\n",
    "    for match in faceMatches:\n",
    "            print ('FaceId:' + match['Face']['FaceId'])\n",
    "            print ('Similarity: ' + \"{:.2f}\".format(match['Similarity']) + \"%\")\n",
    "            print\n"
   ]
  },
  {
   "cell_type": "code",
   "execution_count": null,
   "metadata": {},
   "outputs": [],
   "source": []
  },
  {
   "cell_type": "code",
   "execution_count": null,
   "metadata": {},
   "outputs": [],
   "source": []
  }
 ],
 "metadata": {
  "kernelspec": {
   "display_name": "Python 3",
   "language": "python",
   "name": "python3"
  },
  "language_info": {
   "codemirror_mode": {
    "name": "ipython",
    "version": 3
   },
   "file_extension": ".py",
   "mimetype": "text/x-python",
   "name": "python",
   "nbconvert_exporter": "python",
   "pygments_lexer": "ipython3",
   "version": "3.7.4"
  }
 },
 "nbformat": 4,
 "nbformat_minor": 2
}
